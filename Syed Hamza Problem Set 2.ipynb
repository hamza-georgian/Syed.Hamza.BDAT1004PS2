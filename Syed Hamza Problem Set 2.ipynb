{
 "cells": [
  {
   "cell_type": "markdown",
   "metadata": {
    "slideshow": {
     "slide_type": "slide"
    }
   },
   "source": [
    "<h1><font color='#004b87'><center>BDAT 1004</center></font></h1>\n",
    "<h3><center>Problem Set 2 Solution</center></h3>\n",
    "<h3><center>By: SYED HAMZA</center></h3>"
   ]
  },
  {
   "cell_type": "markdown",
   "metadata": {},
   "source": [
    "<h2><font color='#004b87'>Question 01</font></h2>\n",
    "<p>Consider the following Python module: </p>\n",
    "<img src=\"image.png\" style=\"width:400px;height:200px;\"> </img>\n",
    "<p> <b> What value is displayed when the last expression (a) is evaluated? Explain your \n",
    "answer by indicating what happens in every executed statement</b>.</p>"
   ]
  },
  {
   "cell_type": "code",
   "execution_count": 208,
   "metadata": {},
   "outputs": [
    {
     "data": {
      "text/plain": [
       "6"
      ]
     },
     "execution_count": 208,
     "metadata": {},
     "output_type": "execute_result"
    }
   ],
   "source": [
    "a = 0\n",
    "\n",
    "def b():\n",
    " global a\n",
    " a = c(a)\n",
    "    \n",
    "def c(a):\n",
    " return a + 2\n",
    "    \n",
    "b()\n",
    "b()\n",
    "b()\n",
    "a"
   ]
  },
  {
   "cell_type": "markdown",
   "metadata": {},
   "source": [
    "<h5> Explanation: </h5>"
   ]
  },
  {
   "cell_type": "markdown",
   "metadata": {},
   "source": [
    "The value of 'a' is set to 0. When we call the function 'b' , it adds 2 to the current value of 'a' (because a is declared as a global variable here), which is initially 0, and then it updates the value of 'a'. So, with each call to 'b', 'a' increases by '2'. we are calling 'b' three times, so 'a' becomes 2, then 4, and finally 6. When we evaluate 'a' after the three calls, it displays the current value, which is 6."
   ]
  },
  {
   "cell_type": "markdown",
   "metadata": {},
   "source": [
    "<h2><font color='#004b87'>Question 02</font></h2>\n",
    "<p></p>\n",
    "<p>Function <b>fileLength()</b>, given to you, takes the name of a file as input and returns the length of the file: </p>\n",
    "<img src=\"image2.png\" style=\"width:400px;height:200px;\"> </img>\n",
    "<p> As shown above, if the file cannot be found by the interpreter or if it cannot be read vas a text file, an exception will be raised. Modifyvfunction fileLength() so that a vfriendly message is printed instead: </p>\n",
    "<p> \n",
    "<img src=\"image3.png\" style=\"width:250px;height:150px;\"> </img> </p>"
   ]
  },
  {
   "cell_type": "code",
   "execution_count": 210,
   "metadata": {},
   "outputs": [
    {
     "name": "stdout",
     "output_type": "stream",
     "text": [
      "The length of the file Filelength.txt is 123\n",
      "The file midterm.py is either missing from path or the name is incorrect\n",
      "The file idterm.py is either missing from path or the name is incorrect\n"
     ]
    }
   ],
   "source": [
    "def fileLength(question2):\n",
    "    try:\n",
    "        file = open(question2,\"r\")\n",
    "        text = file.read()\n",
    "        return print(\"The length of the file\", question2, \"is\", len(text))\n",
    "    except FileNotFoundError as f:\n",
    "        print(\"The file {0} is either missing from path or the name is incorrect\".format(question2))\n",
    "        \n",
    "fileLength(\"Filelength.txt\")\n",
    "fileLength(\"midterm.py\")\n",
    "fileLength(\"idterm.py\")"
   ]
  },
  {
   "cell_type": "markdown",
   "metadata": {},
   "source": [
    "<h2><font color='#004b87'>Question 03</font></h2>\n",
    "<p></p>\n",
    "<p> Write a class named Marsupial that can be used as shown below </p>\n",
    "<img src=\"image4.png\" style=\"width:250px;height:150px;\"> </img>\n",
    "<p> Now write a class named Kangaroo as a subclass of Marsupial that inherits all the attributes of Marsupial and also: \n",
    "a. extends the Marsupial __init__ constructor to take, as input, the coordinates x and y of the Kangaroo object<br>\n",
    "b. supports method jump that takes number values dx and dy as input and moves the kangaroo by dx units along the x-axis and by dy units along the y\n",
    "axis<br>\n",
    "c. overloads the __str__ operator so it behaves as shown below. </p>\n",
    "\n",
    "<img src=\"image5.png\" style=\"width:300px;height:250px;\"> </img>"
   ]
  },
  {
   "cell_type": "code",
   "execution_count": 212,
   "metadata": {},
   "outputs": [
    {
     "name": "stdout",
     "output_type": "stream",
     "text": [
      "['doll', 'firetruck', 'kitten']\n",
      "I am a Kangaroo located at coordinates (0,0)\n",
      "['doll', 'firetruck', 'kitten']\n",
      "I am a Kangaroo located at coordinates (3,0)\n"
     ]
    }
   ],
   "source": [
    "class Marsupial:\n",
    "    def __init__(self):\n",
    "        self.value = []\n",
    "\n",
    "    def put_in_pouch(self, item):\n",
    "        self.value.append(item)\n",
    "\n",
    "    def pouch_contents(self):\n",
    "        return self.value\n",
    "\n",
    "class Kangaroo(Marsupial):\n",
    "    def __init__(self, period_x, period_y):\n",
    "        super().__init__()  # Calling the constructor of the parent class\n",
    "        self.x_input = period_x\n",
    "        self.y_input = period_y\n",
    "\n",
    "    def jump(self, period_dx, period_dy):\n",
    "        self.x_input += period_dx\n",
    "        self.y_input += period_dy\n",
    "\n",
    "    def __str__(self):\n",
    "        return \"I am a Kangaroo located at coordinates ({0},{1})\".format(self.x_input,self.y_input)\n",
    "\n",
    "m = Marsupial()\n",
    "m.put_in_pouch('doll')\n",
    "m.put_in_pouch('firetruck')\n",
    "m.put_in_pouch('kitten')\n",
    "print(m.pouch_contents())\n",
    "\n",
    "k = Kangaroo(0, 0)\n",
    "print(k)\n",
    "k.put_in_pouch('doll')\n",
    "k.put_in_pouch('firetruck')\n",
    "k.put_in_pouch('kitten')\n",
    "print(k.pouch_contents())\n",
    "k.jump(1, 0)\n",
    "k.jump(1, 0)\n",
    "k.jump(1, 0)\n",
    "print(k)"
   ]
  },
  {
   "cell_type": "markdown",
   "metadata": {},
   "source": [
    "<h2><font color='#004b87'>Question 04</font></h2>\n",
    "\n",
    "<p> Write function <b> collatz() </b> that takes a positive integer x as input and prints the Collatz sequence starting at x. A Collatz sequence is obtained by repeatedly applying this rule to the previous number x in the sequence: </p>\n",
    "\n",
    "<center> <img src=\"image6.png\" style=\"width:200px;height:150px;\"> </img> </center>\n",
    "<p>  Your function should stop when the sequence gets to number 1. Your implementation must be recursive, without any  loops</p>\n",
    "\n",
    "<img src=\"image7.png\" style=\"width:250px;height:250px;\"> </img>"
   ]
  },
  {
   "cell_type": "code",
   "execution_count": 214,
   "metadata": {},
   "outputs": [
    {
     "name": "stdout",
     "output_type": "stream",
     "text": [
      "First test case:\n",
      "1\n",
      "Second test case:\n",
      "10\n",
      "5\n",
      "16\n",
      "8\n",
      "4\n",
      "2\n",
      "1\n"
     ]
    }
   ],
   "source": [
    "def collatz(x):\n",
    "    print(x)  \n",
    "\n",
    "    if x == 1:\n",
    "        return  # Stop when the sequence reaches 1\n",
    "    elif x % 2 == 0:\n",
    "        collatz(x // 2)  # If x is even, recursively call collatz with x/2\n",
    "    else:\n",
    "        collatz(3 * x + 1)  # If x is odd, recursively call collatz with 3x + 1\n",
    "print(\"First test case:\")\n",
    "collatz(1)\n",
    "print(\"Second test case:\")\n",
    "collatz(10)"
   ]
  },
  {
   "cell_type": "markdown",
   "metadata": {
    "slideshow": {
     "slide_type": "slide"
    }
   },
   "source": [
    "<h2><font color='#004b87'>Question 05</font></h2>\n",
    "<p></p>"
   ]
  },
  {
   "cell_type": "markdown",
   "metadata": {},
   "source": [
    "<p> <b> Write a recursive method binary() that takes a non-negative integer n and prints the binary representation of integer n. <b> </p>\n",
    "\n",
    "<img src=\"image8.png\" style=\"width:200px;height:200px;\"> </img>"
   ]
  },
  {
   "cell_type": "code",
   "execution_count": 216,
   "metadata": {},
   "outputs": [
    {
     "name": "stdout",
     "output_type": "stream",
     "text": [
      "First test case:\n",
      "0\n",
      "Second test case:\n",
      "1\n",
      "Third test case:\n",
      "11\n",
      "Fourth test case:\n",
      "1001\n"
     ]
    }
   ],
   "source": [
    "def binary(n):\n",
    "    if n == 0:\n",
    "        print(0)\n",
    "    else:\n",
    "        binary_str = ''\n",
    "        while n > 0:\n",
    "            remainder = n % 2\n",
    "            binary_str = str(remainder) + binary_str\n",
    "            n //= 2\n",
    "        print(binary_str)\n",
    "\n",
    "print(\"First test case:\") \n",
    "binary(0)\n",
    "print(\"Second test case:\") \n",
    "binary(1)\n",
    "print(\"Third test case:\")\n",
    "binary(3)\n",
    "print(\"Fourth test case:\")\n",
    "binary(9)"
   ]
  },
  {
   "cell_type": "markdown",
   "metadata": {
    "slideshow": {
     "slide_type": "slide"
    }
   },
   "source": [
    "<h2><font color='#004b87'>Question 06</font></h2>\n",
    "<p></p>"
   ]
  },
  {
   "cell_type": "markdown",
   "metadata": {},
   "source": [
    "<p> Implement a class named HeadingParser that can be used to parse an HTML  document, and retrieve and print all the headings in the document. You should implement your class as a subclass of HTMLParser, defined in Standard Library module html.parser. When fed a string containing HTML code, your class should print the headings, one per line and in the order in which they appear in the document. Each heading should be indented as follows: an h1 heading should have indentation 0, and h2 heading should have indentation 1, etc. Test your \n",
    "implementation using w3c.html.  </p>\n",
    "\n",
    "<img src=\"image9.png\" style=\"width:200px;height:200px;\"> </img> "
   ]
  },
  {
   "cell_type": "code",
   "execution_count": 218,
   "metadata": {},
   "outputs": [
    {
     "name": "stdout",
     "output_type": "stream",
     "text": [
      "W3C Mission\n",
      " Principles\n"
     ]
    }
   ],
   "source": [
    "from html.parser import HTMLParser\n",
    "\n",
    "class HeadingParser(HTMLParser):\n",
    "    def __init__(self):\n",
    "        super().__init__()\n",
    "        self.headings = []\n",
    "        self.in_heading = False\n",
    "\n",
    "    def handle_starttag(self, tag, attrs):\n",
    "        if tag.startswith('h') and tag[1:].isdigit():\n",
    "            self.in_heading = True\n",
    "            self.current_heading_level = int(tag[1])\n",
    "\n",
    "    def handle_data(self, data):\n",
    "        if self.in_heading:\n",
    "            indentation = \" \" * (self.current_heading_level - 1)\n",
    "            heading_text = f\"{indentation}{data.strip()}\"\n",
    "            self.headings.append(heading_text)\n",
    "\n",
    "    def handle_endtag(self, tag):\n",
    "        if self.in_heading:\n",
    "            self.in_heading = False\n",
    "\n",
    "    def print_headings(self):\n",
    "        for heading in self.headings:\n",
    "            print(heading)\n",
    "            \n",
    "infile = open('w3c.txt', encoding='utf-8')\n",
    "text = infile.read()\n",
    "infile.close()\n",
    "\n",
    "hp = HeadingParser()\n",
    "hp.feed(text)\n",
    "hp.print_headings()"
   ]
  },
  {
   "cell_type": "markdown",
   "metadata": {
    "slideshow": {
     "slide_type": "slide"
    }
   },
   "source": [
    "<h2><font color='#004b87'>Question 07</font></h2>\n",
    "<p></p>"
   ]
  },
  {
   "cell_type": "markdown",
   "metadata": {},
   "source": [
    "<p> Implement recursive function webdir() that takes as input: a URL (as a string) and \n",
    "non-negative integers depth and indent. Your function should visit every web\r\n",
    "page reachable from the starting URL web page in depth clicks or less, and prin \r\n",
    "each web page's URL. As shown below, indentation, specified by indent,  shoud \r\n",
    "be used to indicate the depth of a URL.  \n",
    "\n",
    "<img src=\"image10.png\" style=\"width:450px;height:250px;\"> </img></p>"
   ]
  },
  {
   "cell_type": "code",
   "execution_count": 178,
   "metadata": {},
   "outputs": [
    {
     "name": "stdout",
     "output_type": "stream",
     "text": [
      "Requirement already satisfied: requests in c:\\users\\conta\\anaconda3\\lib\\site-packages (2.31.0)\n",
      "Requirement already satisfied: beautifulsoup4 in c:\\users\\conta\\anaconda3\\lib\\site-packages (4.12.2)\n",
      "Requirement already satisfied: charset-normalizer<4,>=2 in c:\\users\\conta\\anaconda3\\lib\\site-packages (from requests) (2.0.4)\n",
      "Requirement already satisfied: idna<4,>=2.5 in c:\\users\\conta\\anaconda3\\lib\\site-packages (from requests) (3.4)\n",
      "Requirement already satisfied: urllib3<3,>=1.21.1 in c:\\users\\conta\\anaconda3\\lib\\site-packages (from requests) (2.0.7)\n",
      "Requirement already satisfied: certifi>=2017.4.17 in c:\\users\\conta\\anaconda3\\lib\\site-packages (from requests) (2024.7.4)\n",
      "Requirement already satisfied: soupsieve>1.2 in c:\\users\\conta\\anaconda3\\lib\\site-packages (from beautifulsoup4) (2.5)\n"
     ]
    }
   ],
   "source": [
    "!pip install requests beautifulsoup4  #installing the packages required for this question"
   ]
  },
  {
   "cell_type": "code",
   "execution_count": 220,
   "metadata": {},
   "outputs": [
    {
     "name": "stdout",
     "output_type": "stream",
     "text": [
      "http://reed.cs.depaul.edu/lperkovic/csc242/test1.html\n",
      "Error accessing http://reed.cs.depaul.edu/lperkovic/csc242/test1.html: 404 Client Error:  for url: http://reed.cs.depaul.edu/lperkovic/csc242/test1.html\n"
     ]
    }
   ],
   "source": [
    "import requests\n",
    "from bs4 import BeautifulSoup\n",
    "\n",
    "def webdir(url, depth, indent):\n",
    "    if depth < 0:\n",
    "        return  # Stop recursion if depth is less than 0\n",
    "    \n",
    "    print(\" \" * indent + url)  # Print the URL with the specified indentation\n",
    "\n",
    "    try:\n",
    "        response = requests.get(url)\n",
    "        response.raise_for_status()  # Check if the request was successful\n",
    "        soup = BeautifulSoup(response.text, 'html.parser')\n",
    "\n",
    "        # Find all links on the page\n",
    "        links = soup.find_all('a', href=True)\n",
    "\n",
    "        # If depth is greater than 0, recursively call webdir on each link\n",
    "        if depth > 0:\n",
    "            for link in links:\n",
    "                href = link['href']\n",
    "                # Ensure it's an absolute URL\n",
    "                if href.startswith('http'):\n",
    "                    webdir(href, depth - 1, indent + 2)  # Increase indentation for child links\n",
    "    except requests.RequestException as e:\n",
    "        print(f\"Error accessing {url}: {e}\")\n",
    "\n",
    "webdir('http://reed.cs.depaul.edu/lperkovic/csc242/test1.html', 2, 0)"
   ]
  },
  {
   "cell_type": "markdown",
   "metadata": {
    "slideshow": {
     "slide_type": "slide"
    }
   },
   "source": [
    "<h2><font color='#004b87'>Question 08</font></h2>\n",
    "<p></p>"
   ]
  },
  {
   "cell_type": "markdown",
   "metadata": {},
   "source": [
    "<p>  <b> Write SQL queries on the below database table that return: </b>  <br>\n",
    "a) All the temperature data. <br>\n",
    "b) All the cities, but without repetition. <br>\n",
    "c) All the records for India. <br>\n",
    "d) All the Fall records. <br>\n",
    "e) The city, country, and season for which the average rainfall is between 200 and 400 millimeters. <br>\n",
    "f) The city and country for which the average Fall temperature is above 20 degrees, in increasing temperature order. <br>\n",
    "g) The total annual rainfall for Cairo. <br>\n",
    "h) The total rainfall for each season. \n",
    "</p>"
   ]
  },
  {
   "cell_type": "raw",
   "metadata": {},
   "source": [
    "#part a\n",
    "SELECT temperature from weather_report;"
   ]
  },
  {
   "cell_type": "raw",
   "metadata": {},
   "source": [
    "#part b\n",
    "SELECT DISTINCT city from weather_report;"
   ]
  },
  {
   "cell_type": "raw",
   "metadata": {},
   "source": [
    "#part c\n",
    "SELECT * FROM weather_report WHERE Country = 'India';"
   ]
  },
  {
   "cell_type": "raw",
   "metadata": {},
   "source": [
    "#part d\n",
    "SELECT * FROM weather_report WHERE Season = 'Fall';"
   ]
  },
  {
   "cell_type": "raw",
   "metadata": {},
   "source": [
    "#part e\n",
    "SELECT city, country, season FROM weather_report \n",
    "Group By city, country, season\n",
    "HAVING AVG(rainfall) BETWEEN 200 and 400"
   ]
  },
  {
   "cell_type": "raw",
   "metadata": {},
   "source": [
    "#part f\n",
    "SELECT city, country\n",
    "FROM Weather_report\n",
    "WHERE season = 'fall'\n",
    "GROUP BY city, country\n",
    "HAVING AVG(temperature) > 20\n",
    "ORDER BY AVG (temperature) ASC;"
   ]
  },
  {
   "cell_type": "raw",
   "metadata": {},
   "source": [
    "#part g\n",
    "SELECT SUM(rainfall) AS totalannualrainfall\n",
    "FROM weather_report\n",
    "WHERE city = 'cairo';"
   ]
  },
  {
   "cell_type": "raw",
   "metadata": {},
   "source": [
    "#part h\n",
    "Select Season, SUM(rainfall) as total_rainfall\n",
    "FROM weather_report\n",
    "GROUP BY season;"
   ]
  },
  {
   "cell_type": "markdown",
   "metadata": {
    "slideshow": {
     "slide_type": "slide"
    }
   },
   "source": [
    "<h2><font color='#004b87'>Question 09</font></h2>\n",
    "<p></p>"
   ]
  },
  {
   "cell_type": "markdown",
   "metadata": {},
   "source": [
    "<p> <b> Suppose list words is defined as follows: </b> </p>\n",
    "<p> words = ['The', 'quick', 'brown', 'fox', 'jumps', 'over', \n",
    "'the', 'lazy', 'dog'] </p\n",
    "<p> <b> Write list comprehension expressions that use list words and generate the following \n",
    "lists </b>: </p>>\n",
    "\n",
    "<img src=\"image11.png\" style=\"width:450px;height:250px;\"> </img>"
   ]
  },
  {
   "cell_type": "code",
   "execution_count": 222,
   "metadata": {},
   "outputs": [
    {
     "name": "stdout",
     "output_type": "stream",
     "text": [
      "a. ['THE', 'QUICK', 'BROWN', 'FOX', 'JUMPS', 'OVER', 'THE', 'LAZY', 'DOG']\n",
      "b. ['the', 'quick', 'brown', 'fox', 'jumps', 'over', 'the', 'lazy', 'dog']\n",
      "c. [3, 5, 5, 3, 5, 4, 3, 4, 3] (the list of lengths of words in list words)\n",
      "d. [['THE', 'the', 3], ['QUICK', 'quick', 5], ['BROWN', 'brown', 5], ['FOX', 'fox', 3], ['JUMPS', 'jumps', 5], ['OVER', 'over', 4], ['THE', 'the', 3], ['LAZY', 'lazy', 4], ['DOG', 'dog', 3]] (the list containing a list for every word of list words, where each list contains the word in uppercase and lowercase and the length of the word.)\n",
      "e. ['quick', 'brown', 'jumps', 'over', 'lazy'] (the list of words in list words containing 4 or more characters.)\n"
     ]
    }
   ],
   "source": [
    "words = ['The', 'quick', 'brown', 'fox', 'jumps', 'over', 'the', 'lazy', 'dog']\n",
    "upcase_words = [word.upper() for word in words]\n",
    "lowcase_words = [word.lower() for word in words]\n",
    "word_lengths = [len(word) for word in words]\n",
    "word_info = [[word.upper(),word.lower(), len(word)] for word in words]\n",
    "four_or_more_characters = [word for word in words if len(word) >=4]\n",
    "print(\"a.\", upcase_words)\n",
    "print(\"b.\", lowcase_words)\n",
    "print(\"c.\", word_lengths, \"(the list of lengths of words in list words)\")\n",
    "print(\"d.\", word_info, \"(the list containing a list for every word of list words, where each list contains the word in uppercase and lowercase and the length of the word.)\")\n",
    "print(\"e.\", four_or_more_characters, \"(the list of words in list words containing 4 or more characters.)\")"
   ]
  }
 ],
 "metadata": {
  "celltoolbar": "Slideshow",
  "kernelspec": {
   "display_name": "Python 3 (ipykernel)",
   "language": "python",
   "name": "python3"
  },
  "language_info": {
   "codemirror_mode": {
    "name": "ipython",
    "version": 3
   },
   "file_extension": ".py",
   "mimetype": "text/x-python",
   "name": "python",
   "nbconvert_exporter": "python",
   "pygments_lexer": "ipython3",
   "version": "3.11.7"
  }
 },
 "nbformat": 4,
 "nbformat_minor": 4
}
